{
 "cells": [
  {
   "cell_type": "markdown",
   "id": "3bd4c608",
   "metadata": {},
   "source": [
    "# Data Science Job Insights: Industry Trends and Analysis"
   ]
  },
  {
   "cell_type": "code",
   "execution_count": 2,
   "id": "f8abd8b0",
   "metadata": {},
   "outputs": [
    {
     "name": "stdout",
     "output_type": "stream",
     "text": [
      "   work_year             job_title                    job_category  \\\n",
      "0       2023  Data DevOps Engineer                Data Engineering   \n",
      "1       2023        Data Architect  Data Architecture and Modeling   \n",
      "\n",
      "  salary_currency  salary  salary_in_usd employee_residence experience_level  \\\n",
      "0             EUR   88000          95012            Germany        Mid-level   \n",
      "1             USD  186000         186000      United States           Senior   \n",
      "\n",
      "  employment_type work_setting company_location company_size  \n",
      "0       Full-time       Hybrid          Germany            L  \n",
      "1       Full-time    In-person    United States            M  \n"
     ]
    }
   ],
   "source": [
    "# import the library\n",
    "import pandas as pd\n",
    "\n",
    "# Reading the Data Science data\n",
    "df = pd.read_csv(\"Data\\jobs_in_data.csv\")\n",
    "\n",
    "# Printing the snapshot\n",
    "print(df.head(2))"
   ]
  },
  {
   "cell_type": "code",
   "execution_count": 3,
   "id": "66dbb64c",
   "metadata": {},
   "outputs": [
    {
     "data": {
      "text/plain": [
       "Index(['work_year', 'job_title', 'job_category', 'salary_currency', 'salary',\n",
       "       'salary_in_usd', 'employee_residence', 'experience_level',\n",
       "       'employment_type', 'work_setting', 'company_location', 'company_size'],\n",
       "      dtype='object')"
      ]
     },
     "execution_count": 3,
     "metadata": {},
     "output_type": "execute_result"
    }
   ],
   "source": [
    "# Getting a list of all the columns\n",
    "df.columns"
   ]
  },
  {
   "cell_type": "markdown",
   "id": "bc0c79fc",
   "metadata": {},
   "source": [
    "## We will Start with the EDA for the dataset\n",
    "\n",
    "### Step 1: Analysis of Unique values in each column"
   ]
  },
  {
   "cell_type": "code",
   "execution_count": 4,
   "id": "d4b59796",
   "metadata": {},
   "outputs": [
    {
     "name": "stdout",
     "output_type": "stream",
     "text": [
      "work_year [2023 2022 2020 2021]\n",
      "\n",
      "job_title ['Data DevOps Engineer' 'Data Architect' 'Data Scientist'\n",
      " 'Machine Learning Researcher' 'Data Engineer' 'Machine Learning Engineer'\n",
      " 'Data Analyst' 'Analytics Engineer' 'Applied Scientist' 'BI Developer'\n",
      " 'Business Intelligence Engineer' 'Research Scientist' 'Research Analyst'\n",
      " 'Research Engineer' 'Data Science Engineer' 'Data Quality Analyst'\n",
      " 'Data Product Manager' 'Machine Learning Scientist' 'AI Engineer'\n",
      " 'MLOps Engineer' 'Deep Learning Engineer' 'Data Modeler'\n",
      " 'Data Product Owner' 'Data Science Consultant'\n",
      " 'Business Intelligence Analyst' 'AI Developer' 'Data Manager'\n",
      " 'ML Engineer' 'Data Science Director' 'Head of Data' 'BI Analyst'\n",
      " 'Data Management Analyst' 'Machine Learning Modeler' 'Data Specialist'\n",
      " 'BI Data Analyst' 'Data Integration Engineer'\n",
      " 'Business Intelligence Manager' 'Data Integration Specialist'\n",
      " 'Data Science Practitioner' 'Business Intelligence Developer'\n",
      " 'AI Research Engineer' 'Data Lead' 'Data Management Specialist'\n",
      " 'AI Architect' 'Data Science Manager' 'Data Strategist'\n",
      " 'Business Intelligence Specialist'\n",
      " 'Machine Learning Infrastructure Engineer' 'Data Quality Engineer'\n",
      " 'Director of Data Science' 'Business Data Analyst' 'Decision Scientist'\n",
      " 'Financial Data Analyst' 'Data Strategy Manager'\n",
      " 'Computer Vision Engineer' 'Data Visualization Specialist'\n",
      " 'Insight Analyst' 'Data Visualization Engineer' 'ETL Developer'\n",
      " 'Data Analytics Manager' 'Azure Data Engineer' 'Data Developer'\n",
      " 'Principal Data Scientist' 'Data Science Lead' 'Staff Data Analyst'\n",
      " 'Data Infrastructure Engineer' 'Machine Learning Software Engineer'\n",
      " 'Machine Learning Operations Engineer' 'AI Scientist'\n",
      " 'Head of Machine Learning' 'Applied Data Scientist' 'AI Programmer'\n",
      " 'Data Operations Analyst' 'Applied Machine Learning Scientist'\n",
      " 'Data Analytics Lead' 'Data Operations Engineer'\n",
      " 'Machine Learning Manager' 'Lead Data Scientist'\n",
      " 'Principal Machine Learning Engineer' 'Principal Data Engineer'\n",
      " 'Power BI Developer' 'Head of Data Science'\n",
      " 'Staff Machine Learning Engineer' 'Staff Data Scientist'\n",
      " 'Consultant Data Engineer' 'Machine Learning Specialist'\n",
      " 'Business Intelligence Data Analyst' 'Data Operations Manager'\n",
      " 'Lead Machine Learning Engineer' 'Managing Director Data Science'\n",
      " 'Data Modeller' 'Finance Data Analyst' 'Software Data Engineer'\n",
      " 'Machine Learning Research Engineer' 'Compliance Data Analyst'\n",
      " 'Data Operations Specialist' 'Cloud Data Engineer'\n",
      " 'Analytics Engineering Manager' 'NLP Engineer' 'AWS Data Architect'\n",
      " 'Product Data Analyst' 'Machine Learning Developer'\n",
      " 'Data Visualization Analyst' 'Autonomous Vehicle Technician'\n",
      " 'Sales Data Analyst' 'Applied Machine Learning Engineer' 'ETL Engineer'\n",
      " 'Big Data Engineer' 'Lead Data Analyst' 'BI Data Engineer'\n",
      " 'Cloud Database Engineer' 'Deep Learning Researcher'\n",
      " 'Data Analytics Specialist' 'Big Data Architect'\n",
      " 'Computer Vision Software Engineer' 'Marketing Data Engineer'\n",
      " 'Manager Data Management' 'Data Analytics Consultant'\n",
      " 'Data Science Tech Lead' 'Data Scientist Lead' 'Marketing Data Analyst'\n",
      " 'Data Analytics Engineer' 'Cloud Data Architect' 'Lead Data Engineer'\n",
      " 'Principal Data Analyst']\n",
      "\n",
      "job_category ['Data Engineering' 'Data Architecture and Modeling'\n",
      " 'Data Science and Research' 'Machine Learning and AI' 'Data Analysis'\n",
      " 'Leadership and Management' 'BI and Visualization'\n",
      " 'Data Quality and Operations' 'Data Management and Strategy'\n",
      " 'Cloud and Database']\n",
      "\n",
      "salary_currency ['EUR' 'USD' 'GBP' 'CAD' 'AUD' 'PLN' 'BRL' 'TRY' 'CHF' 'SGD' 'DKK']\n",
      "\n",
      "salary [ 88000 186000  81800 ... 138350 423000 412000]\n",
      "\n",
      "salary_in_usd [ 95012 186000  81800 ... 423000  28369 412000]\n",
      "\n",
      "employee_residence ['Germany' 'United States' 'United Kingdom' 'Canada' 'Spain' 'Ireland'\n",
      " 'South Africa' 'Poland' 'France' 'Czech Republic' 'Netherlands'\n",
      " 'Pakistan' 'Ukraine' 'Lithuania' 'Portugal' 'Australia' 'Uganda'\n",
      " 'Colombia' 'Italy' 'Slovenia' 'Romania' 'Greece' 'India' 'Latvia'\n",
      " 'Mauritius' 'Armenia' 'Croatia' 'Thailand' 'South Korea' 'Estonia'\n",
      " 'Turkey' 'Philippines' 'Brazil' 'Qatar' 'Russia' 'Kenya' 'Tunisia'\n",
      " 'Ghana' 'Belgium' 'Switzerland' 'Andorra' 'Ecuador' 'Peru' 'Mexico'\n",
      " 'Moldova' 'Nigeria' 'Saudi Arabia' 'Argentina' 'Egypt' 'Uzbekistan'\n",
      " 'Georgia' 'Central African Republic' 'Finland' 'Austria' 'Singapore'\n",
      " 'Sweden' 'Kuwait' 'Cyprus' 'Bosnia and Herzegovina' 'Iran'\n",
      " 'American Samoa' 'China' 'Costa Rica' 'Chile' 'Puerto Rico' 'Denmark'\n",
      " 'Bolivia' 'Dominican Republic' 'Indonesia' 'United Arab Emirates'\n",
      " 'Malaysia' 'Japan' 'Honduras' 'Algeria' 'Vietnam' 'Iraq' 'Bulgaria'\n",
      " 'Jersey' 'Serbia' 'New Zealand' 'Hong Kong' 'Luxembourg' 'Malta']\n",
      "\n",
      "experience_level ['Mid-level' 'Senior' 'Executive' 'Entry-level']\n",
      "\n",
      "employment_type ['Full-time' 'Part-time' 'Contract' 'Freelance']\n",
      "\n",
      "work_setting ['Hybrid' 'In-person' 'Remote']\n",
      "\n",
      "company_location ['Germany' 'United States' 'United Kingdom' 'Canada' 'Spain' 'Ireland'\n",
      " 'South Africa' 'Poland' 'France' 'Netherlands' 'Luxembourg' 'Lithuania'\n",
      " 'Portugal' 'Gibraltar' 'Australia' 'Colombia' 'Ukraine' 'Slovenia'\n",
      " 'Romania' 'Greece' 'India' 'Latvia' 'Mauritius' 'Russia' 'Italy'\n",
      " 'South Korea' 'Estonia' 'Czech Republic' 'Brazil' 'Qatar' 'Kenya'\n",
      " 'Denmark' 'Ghana' 'Sweden' 'Turkey' 'Switzerland' 'Andorra' 'Ecuador'\n",
      " 'Mexico' 'Israel' 'Nigeria' 'Saudi Arabia' 'Argentina' 'Japan'\n",
      " 'Central African Republic' 'Finland' 'Singapore' 'Croatia' 'Armenia'\n",
      " 'Bosnia and Herzegovina' 'Pakistan' 'Iran' 'Bahamas' 'Austria'\n",
      " 'Puerto Rico' 'American Samoa' 'Thailand' 'Philippines' 'Belgium' 'Egypt'\n",
      " 'Indonesia' 'United Arab Emirates' 'Malaysia' 'Honduras' 'Algeria' 'Iraq'\n",
      " 'China' 'New Zealand' 'Moldova' 'Malta']\n",
      "\n",
      "company_size ['L' 'M' 'S']\n",
      "\n"
     ]
    }
   ],
   "source": [
    "for i in df.columns:\n",
    "    print(i,df[i].unique())\n",
    "    print(\"\")"
   ]
  },
  {
   "cell_type": "markdown",
   "id": "ad072b6d",
   "metadata": {},
   "source": [
    "### Step 2: Analysing nulls in each column"
   ]
  },
  {
   "cell_type": "code",
   "execution_count": 5,
   "id": "41f97df2",
   "metadata": {},
   "outputs": [
    {
     "name": "stdout",
     "output_type": "stream",
     "text": [
      "Nulls in each column\n",
      "Column             Count\n",
      "work_year             0\n",
      "job_title             0\n",
      "job_category          0\n",
      "salary_currency       0\n",
      "salary                0\n",
      "salary_in_usd         0\n",
      "employee_residence    0\n",
      "experience_level      0\n",
      "employment_type       0\n",
      "work_setting          0\n",
      "company_location      0\n",
      "company_size          0\n",
      "dtype: int64\n"
     ]
    }
   ],
   "source": [
    "print(\"Nulls in each column\")\n",
    "print(\"Column             Count\")\n",
    "# Count the number of nulls in each column\n",
    "null_counts = df.isnull().sum()\n",
    "# Display the result\n",
    "print(null_counts)"
   ]
  },
  {
   "cell_type": "markdown",
   "id": "2f68896a",
   "metadata": {},
   "source": [
    "### Step 3: Analysing the statistics "
   ]
  },
  {
   "cell_type": "code",
   "execution_count": 6,
   "id": "ebcf44d3",
   "metadata": {},
   "outputs": [
    {
     "name": "stdout",
     "output_type": "stream",
     "text": [
      "              salary  salary_in_usd\n",
      "count    9355.000000    9355.000000\n",
      "mean   149927.981293  150299.495564\n",
      "std     63608.835387   63177.372024\n",
      "min     14000.000000   15000.000000\n",
      "25%    105200.000000  105700.000000\n",
      "50%    143860.000000  143000.000000\n",
      "75%    187000.000000  186723.000000\n",
      "max    450000.000000  450000.000000\n"
     ]
    },
    {
     "data": {
      "text/plain": [
       "<AxesSubplot: >"
      ]
     },
     "execution_count": 6,
     "metadata": {},
     "output_type": "execute_result"
    },
    {
     "data": {
      "image/png": "[encoded data removed]",
      "text/plain": [
       "<Figure size 640x480 with 1 Axes>"
      ]
     },
     "metadata": {},
     "output_type": "display_data"
    }
   ],
   "source": [
    "# Summary statistics\n",
    "print(df[['salary', 'salary_in_usd']].describe())\n",
    "\n",
    "# Box plots for salary columns\n",
    "df[['salary', 'salary_in_usd']].boxplot()"
   ]
  }
 ],
 "metadata": {
  "kernelspec": {
   "display_name": "Python 3 (ipykernel)",
   "language": "python",
   "name": "python3"
  },
  "language_info": {
   "codemirror_mode": {
    "name": "ipython",
    "version": 3
   },
   "file_extension": ".py",
   "mimetype": "text/x-python",
   "name": "python",
   "nbconvert_exporter": "python",
   "pygments_lexer": "ipython3",
   "version": "3.11.1"
  }
 },
 "nbformat": 4,
 "nbformat_minor": 5
}
